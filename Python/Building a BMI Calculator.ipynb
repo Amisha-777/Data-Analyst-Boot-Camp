{
 "cells": [
  {
   "cell_type": "markdown",
   "id": "63e77b93-5903-4dfd-8e94-4f2d4e9dc255",
   "metadata": {},
   "source": [
    "# BMI Calculator"
   ]
  },
  {
   "cell_type": "code",
   "execution_count": 24,
   "id": "3afbe3ff-bfab-4e6e-a22e-f7cb9602bacc",
   "metadata": {},
   "outputs": [
    {
     "name": "stdin",
     "output_type": "stream",
     "text": [
      "Enter your name:  Alex\n",
      "Enter your weight in pounds:  170\n",
      "Enter your weight in inches:  69\n"
     ]
    },
    {
     "name": "stdout",
     "output_type": "stream",
     "text": [
      "25.101869355177485\n",
      "Alex, you are overweight. You need to exercise more and stop sitting and writing so many python tutorials\n"
     ]
    }
   ],
   "source": [
    "name = input(\"Enter your name: \")\n",
    "\n",
    "weight = int(input(\"Enter your weight in pounds: \"))\n",
    "\n",
    "height = int(input(\"Enter your weight in inches: \"))\n",
    "\n",
    "BMI = (weight * 703) / (height * height)\n",
    "\n",
    "print(BMI)\n",
    "\n",
    "if BMI > 0:\n",
    "    if (BMI < 18.5):\n",
    "        print(name + \", you are underweight.\")\n",
    "    elif (BMI <= 24.9):\n",
    "        print(name + \", you are normal weight.\")\n",
    "    elif (BMI < 29.9):\n",
    "        print(name + \", you are overweight. You need to exercise more and stop sitting and writing so many python tutorials\")\n",
    "    elif (BMI < 34.9):\n",
    "        print(name + \", you are obese.\")\n",
    "    elif (BMI < 39.9):\n",
    "        print(name + \", you are severely obese.\")\n",
    "    else:\n",
    "        print(name + \", you are morbidly obese\")\n",
    "else:\n",
    "    print(\"Enter valid input:\")"
   ]
  },
  {
   "cell_type": "code",
   "execution_count": null,
   "id": "2ab00cbd-2b9c-47bb-99c0-aa1d722661c4",
   "metadata": {},
   "outputs": [],
   "source": []
  },
  {
   "cell_type": "code",
   "execution_count": null,
   "id": "c5f69305-88cd-4db7-aab8-8cfa7e18ace0",
   "metadata": {},
   "outputs": [],
   "source": []
  },
  {
   "cell_type": "code",
   "execution_count": null,
   "id": "863ed0bb-024e-441a-82cd-3bf538df602d",
   "metadata": {},
   "outputs": [],
   "source": []
  },
  {
   "cell_type": "code",
   "execution_count": null,
   "id": "2f93a8c8-a7eb-4dbc-87e8-731fe29a9db5",
   "metadata": {},
   "outputs": [],
   "source": []
  },
  {
   "cell_type": "code",
   "execution_count": null,
   "id": "19f1c759-6241-4e7a-ae9e-dc57d1121b9b",
   "metadata": {},
   "outputs": [],
   "source": []
  }
 ],
 "metadata": {
  "kernelspec": {
   "display_name": "Python 3 (ipykernel)",
   "language": "python",
   "name": "python3"
  },
  "language_info": {
   "codemirror_mode": {
    "name": "ipython",
    "version": 3
   },
   "file_extension": ".py",
   "mimetype": "text/x-python",
   "name": "python",
   "nbconvert_exporter": "python",
   "pygments_lexer": "ipython3",
   "version": "3.12.1"
  }
 },
 "nbformat": 4,
 "nbformat_minor": 5
}
